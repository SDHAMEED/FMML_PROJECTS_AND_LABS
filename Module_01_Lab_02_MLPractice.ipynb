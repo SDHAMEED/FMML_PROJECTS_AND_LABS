{
  "nbformat": 4,
  "nbformat_minor": 0,
  "metadata": {
    "colab": {
      "provenance": [],
      "toc_visible": true,
      "include_colab_link": true
    },
    "kernelspec": {
      "name": "python3",
      "display_name": "Python 3"
    },
    "language_info": {
      "name": "python"
    }
  },
  "cells": [
    {
      "cell_type": "markdown",
      "metadata": {
        "id": "view-in-github",
        "colab_type": "text"
      },
      "source": [
        "<a href=\"https://colab.research.google.com/github/SDHAMEED/FMML_PROJECTS_AND_LABS/blob/main/Module_01_Lab_02_MLPractice.ipynb\" target=\"_parent\"><img src=\"https://colab.research.google.com/assets/colab-badge.svg\" alt=\"Open In Colab\"/></a>"
      ]
    },
    {
      "cell_type": "code",
      "source": [],
      "metadata": {
        "id": "-AAveWI-g-Zm"
      },
      "execution_count": 7,
      "outputs": []
    },
    {
      "cell_type": "markdown",
      "metadata": {
        "id": "3Eu9VZbF01eq"
      },
      "source": [
        "# Machine learning terms and metrics\n",
        "\n",
        "FMML Module 1, Lab 2<br>\n",
        "\n",
        "\n",
        " In this lab, we will show a part of the ML pipeline by extracting features, training and testing"
      ]
    },
    {
      "cell_type": "code",
      "metadata": {
        "id": "8qBvyEem0vLi"
      },
      "source": [
        "import matplotlib.pyplot as plt\n",
        "import numpy as np\n",
        "from sklearn import datasets\n",
        "# set randomseed\n",
        "rng = np.random.default_rng(seed=42)"
      ],
      "execution_count": 8,
      "outputs": []
    },
    {
      "cell_type": "markdown",
      "metadata": {
        "id": "u3t59g5s1HfC"
      },
      "source": [
        "In this lab, we will use the California Housing dataset. There are 20640 samples, each with 8 attributes like income of the block, age of the houses per district etc. The task is to predict the cost of the houses per district.\n",
        "\n",
        "Let us download and examine the dataset."
      ]
    },
    {
      "cell_type": "code",
      "metadata": {
        "id": "8LpqjN991GGJ",
        "colab": {
          "base_uri": "https://localhost:8080/"
        },
        "outputId": "dc88abd5-b8ba-4df9-d8c3-5bfcaf88fd64"
      },
      "source": [
        " dataset =  datasets.fetch_california_housing()\n",
        " # print(dataset.DESCR)  # uncomment this if you want to know more about this dataset\n",
        " # print(dataset.keys())  # if you want to know what else is there in this dataset\n",
        " dataset.target = dataset.target.astype(np.int) # so that we can classify\n",
        " print(dataset.data.shape)\n",
        " print(dataset.target.shape)"
      ],
      "execution_count": 9,
      "outputs": [
        {
          "output_type": "stream",
          "name": "stdout",
          "text": [
            "(20640, 8)\n",
            "(20640,)\n"
          ]
        },
        {
          "output_type": "stream",
          "name": "stderr",
          "text": [
            "<ipython-input-9-60ae2e9a125e>:4: DeprecationWarning: `np.int` is a deprecated alias for the builtin `int`. To silence this warning, use `int` by itself. Doing this will not modify any behavior and is safe. When replacing `np.int`, you may wish to use e.g. `np.int64` or `np.int32` to specify the precision. If you wish to review your current use, check the release note link for additional information.\n",
            "Deprecated in NumPy 1.20; for more details and guidance: https://numpy.org/devdocs/release/1.20.0-notes.html#deprecations\n",
            "  dataset.target = dataset.target.astype(np.int) # so that we can classify\n"
          ]
        }
      ]
    },
    {
      "cell_type": "markdown",
      "metadata": {
        "id": "iNx4174W5xRg"
      },
      "source": [
        "Here is a function for calculating the 1-nearest neighbours"
      ]
    },
    {
      "cell_type": "code",
      "metadata": {
        "id": "07zpydQj1hIQ"
      },
      "source": [
        "def NN1(traindata, trainlabel, query):\n",
        "  diff  = traindata - query  # find the difference between features. Numpy automatically takes care of the size here\n",
        "  sq = diff*diff # square the differences\n",
        "  dist = sq.sum(1) # add up the squares\n",
        "  label = trainlabel[np.argmin(dist)] # our predicted label is the label of the training data which has the least distance from the query\n",
        "  return label\n",
        "\n",
        "def NN(traindata, trainlabel, testdata):\n",
        "  # we will run nearest neighbour for each sample in the test data\n",
        "  # and collect the predicted classes in an array using list comprehension\n",
        "  predlabel = np.array([NN1(traindata, trainlabel, i) for i in testdata])\n",
        "  return predlabel"
      ],
      "execution_count": 10,
      "outputs": []
    },
    {
      "cell_type": "markdown",
      "metadata": {
        "id": "03JktkfIGaje"
      },
      "source": [
        "We will also define a 'random classifier', which randomly allots labels to each sample"
      ]
    },
    {
      "cell_type": "code",
      "metadata": {
        "id": "fogWAtjyGhAH"
      },
      "source": [
        "def RandomClassifier(traindata, trainlabel, testdata):\n",
        "  # in reality, we don't need these arguments\n",
        "\n",
        "  classes = np.unique(trainlabel)\n",
        "  rints = rng.integers(low=0, high=len(classes), size=len(testdata))\n",
        "  predlabel = classes[rints]\n",
        "  return predlabel"
      ],
      "execution_count": 11,
      "outputs": []
    },
    {
      "cell_type": "markdown",
      "metadata": {
        "id": "1Hjf1KHs7fU5"
      },
      "source": [
        "Let us define a metric 'Accuracy' to see how good our learning algorithm is. Accuracy is the ratio of the number of correctly classified samples to the total number of samples. The higher the accuracy, the better the algorithm."
      ]
    },
    {
      "cell_type": "code",
      "metadata": {
        "id": "ouuCqWU07bz-"
      },
      "source": [
        "def Accuracy(gtlabel, predlabel):\n",
        "  assert len(gtlabel)==len(predlabel), \"Length of the groundtruth labels and predicted labels should be the same\"\n",
        "  correct = (gtlabel==predlabel).sum() # count the number of times the groundtruth label is equal to the predicted label.\n",
        "  return correct/len(gtlabel)"
      ],
      "execution_count": 12,
      "outputs": []
    },
    {
      "cell_type": "markdown",
      "metadata": {
        "id": "4vJFwBFa9Klw"
      },
      "source": [
        "Let us make a function to split the dataset with the desired probability."
      ]
    },
    {
      "cell_type": "code",
      "metadata": {
        "id": "Ko0VzpSM2Tdi"
      },
      "source": [
        "def split(data, label, percent):\n",
        "  # generate a random number for each sample\n",
        "  rnd = rng.random(len(label))\n",
        "  split1 = rnd<percent\n",
        "  split2 = rnd>=percent\n",
        "  split1data = data[split1,:]\n",
        "  split1label = label[split1]\n",
        "  split2data = data[split2,:]\n",
        "  split2label = label[split2]\n",
        "  return split1data, split1label, split2data, split2label"
      ],
      "execution_count": 13,
      "outputs": []
    },
    {
      "cell_type": "markdown",
      "metadata": {
        "id": "AcK3LEAJ_LGC"
      },
      "source": [
        "We will reserve 20% of our dataset as the test set. We will not change this portion throughout our experiments"
      ]
    },
    {
      "cell_type": "code",
      "metadata": {
        "id": "bBZkHBLJ1iU-",
        "colab": {
          "base_uri": "https://localhost:8080/"
        },
        "outputId": "533b0328-3930-42ca-c46f-8cafc4066a9b"
      },
      "source": [
        "testdata, testlabel, alltraindata, alltrainlabel = split(dataset.data, dataset.target, 20/100)\n",
        "print('Number of test samples = ', len(testlabel))\n",
        "print('Number of other samples = ', len(alltrainlabel))\n",
        "print('Percent of test data = ', len(testlabel)*100/len(dataset.target),'%')"
      ],
      "execution_count": 14,
      "outputs": [
        {
          "output_type": "stream",
          "name": "stdout",
          "text": [
            "Number of test samples =  4144\n",
            "Number of other samples =  16496\n",
            "Percent of test data =  20.07751937984496 %\n"
          ]
        }
      ]
    },
    {
      "cell_type": "markdown",
      "metadata": {
        "id": "a6Ss0Z6IAGNV"
      },
      "source": [
        "## Experiments with splits\n",
        "\n",
        "Let us reserve some of our train data as a validation set"
      ]
    },
    {
      "cell_type": "code",
      "metadata": {
        "id": "WFew2iry_7W7"
      },
      "source": [
        "traindata, trainlabel, valdata, vallabel = split(alltraindata, alltrainlabel, 75/100)"
      ],
      "execution_count": 15,
      "outputs": []
    },
    {
      "cell_type": "markdown",
      "metadata": {
        "id": "60hiu4clFN1i"
      },
      "source": [
        "What is the accuracy of our classifiers on the train dataset?"
      ]
    },
    {
      "cell_type": "code",
      "metadata": {
        "id": "DBlZDTHUFTZx",
        "colab": {
          "base_uri": "https://localhost:8080/"
        },
        "outputId": "acc65a3a-0fd1-4d40-e0f1-f81a283bab57"
      },
      "source": [
        "trainpred = NN(traindata, trainlabel, traindata)\n",
        "trainAccuracy = Accuracy(trainlabel, trainpred)\n",
        "print(\"Train accuracy using nearest neighbour is \", trainAccuracy)\n",
        "\n",
        "trainpred = RandomClassifier(traindata, trainlabel, traindata)\n",
        "trainAccuracy = Accuracy(trainlabel, trainpred)\n",
        "print(\"Train accuracy using random classifier is \", trainAccuracy)"
      ],
      "execution_count": 16,
      "outputs": [
        {
          "output_type": "stream",
          "name": "stdout",
          "text": [
            "Train accuracy using nearest neighbour is  1.0\n",
            "Train accuracy using random classifier is  0.164375808538163\n"
          ]
        }
      ]
    },
    {
      "cell_type": "markdown",
      "metadata": {
        "id": "7h08-9gJDtSy"
      },
      "source": [
        "For nearest neighbour, the train accuracy is always 1. The accuracy of the random classifier is close to 1/(number of classes) which is 0.1666 in our case.\n",
        "\n",
        "Let us predict the labels for our validation set and get the accuracy"
      ]
    },
    {
      "cell_type": "code",
      "metadata": {
        "id": "4h7bXoW_2H3v",
        "colab": {
          "base_uri": "https://localhost:8080/"
        },
        "outputId": "d7f539eb-3d28-48f7-a4dd-1036ae9df527"
      },
      "source": [
        "valpred = NN(traindata, trainlabel, valdata)\n",
        "valAccuracy = Accuracy(vallabel, valpred)\n",
        "print(\"Validation accuracy using nearest neighbour is \", valAccuracy)\n",
        "\n",
        "valpred = RandomClassifier(traindata, trainlabel, valdata)\n",
        "valAccuracy = Accuracy(vallabel, valpred)\n",
        "print(\"Validation accuracy using random classifier is \", valAccuracy)"
      ],
      "execution_count": 17,
      "outputs": [
        {
          "output_type": "stream",
          "name": "stdout",
          "text": [
            "Validation accuracy using nearest neighbour is  0.34108527131782945\n",
            "Validation accuracy using random classifier is  0.1688468992248062\n"
          ]
        }
      ]
    },
    {
      "cell_type": "markdown",
      "metadata": {
        "id": "py9bLguFEjfg"
      },
      "source": [
        "Validation accuracy of nearest neighbour is considerably less than its train accuracy while the validation accuracy of random classifier is the same. However, the validation accuracy of nearest neighbour is twice that of the random classifier.\n",
        "\n",
        "Now let us try another random split and check the validation accuracy"
      ]
    },
    {
      "cell_type": "code",
      "metadata": {
        "id": "ujm3cyYzEntE",
        "colab": {
          "base_uri": "https://localhost:8080/"
        },
        "outputId": "08ae204c-e3f3-4dce-f785-52a2250743b6"
      },
      "source": [
        "traindata, trainlabel, valdata, vallabel = split(alltraindata, alltrainlabel, 75/100)\n",
        "valpred = NN(traindata, trainlabel, valdata)\n",
        "valAccuracy = Accuracy(vallabel, valpred)\n",
        "print(\"Validation accuracy of nearest neighbour is \", valAccuracy)"
      ],
      "execution_count": 18,
      "outputs": [
        {
          "output_type": "stream",
          "name": "stdout",
          "text": [
            "Validation accuracy of nearest neighbour is  0.34048257372654156\n"
          ]
        }
      ]
    },
    {
      "cell_type": "markdown",
      "metadata": {
        "id": "oSOx7U83EKie"
      },
      "source": [
        "You can run the above cell multiple times to try with different random splits.\n",
        "We notice that the accuracy is different for each run, but close together.\n",
        "\n",
        "Now let us compare it with the accuracy we get on the test dataset."
      ]
    },
    {
      "cell_type": "code",
      "metadata": {
        "id": "PNEZ5ToYBEDW",
        "colab": {
          "base_uri": "https://localhost:8080/"
        },
        "outputId": "1619b934-4500-4df0-8ea3-5c244638855c"
      },
      "source": [
        "testpred = NN(alltraindata, alltrainlabel, testdata)\n",
        "testAccuracy = Accuracy(testlabel, testpred)\n",
        "print('Test accuracy is ', testAccuracy)"
      ],
      "execution_count": 19,
      "outputs": [
        {
          "output_type": "stream",
          "name": "stdout",
          "text": [
            "Test accuracy is  0.34917953667953666\n"
          ]
        }
      ]
    },
    {
      "cell_type": "markdown",
      "metadata": {
        "id": "w3dGD531K3gH"
      },
      "source": [
        "### Try it out for yourself and answer:\n",
        "1. How is the accuracy of the validation set affected if we increase the percentage of validation set? What happens when we reduce it?\n",
        "2. How does the size of the train and validation set affect how well we can predict the accuracy on the test set using the validation set?\n",
        "3. What do you think is a good percentage to reserve for the validation set so that thest two factors are balanced?\n",
        "\n",
        "Answer for both nearest neighbour and random classifier. You can note down the values for your experiments and plot a graph using  <a href=https://matplotlib.org/stable/gallery/lines_bars_and_markers/step_demo.html#sphx-glr-gallery-lines-bars-and-markers-step-demo-py>plt.plot<href>. Check also for extreme values for splits, like 99.9% or 0.1%"
      ]
    },
    {
      "cell_type": "markdown",
      "metadata": {
        "id": "PnYvkAZLQY7h"
      },
      "source": [
        "## Multiple Splits\n",
        "\n",
        "One way to get more accurate estimates for the test accuracy is by using <b>crossvalidation</b>. Here, we will try a simple version, where we do multiple train/val splits and take the average of validation accuracies as the test accuracy estimation. Here is a function for doing this. Note that this function will take a long time to execute."
      ]
    },
    {
      "cell_type": "code",
      "metadata": {
        "id": "E4nGCUQXBTzo"
      },
      "source": [
        "# you can use this function for random classifier also\n",
        "def AverageAccuracy(alldata, alllabel, splitpercent, iterations, classifier=NN):\n",
        "  accuracy = 0\n",
        "  for ii in range(iterations):\n",
        "    traindata, trainlabel, valdata, vallabel = split(alldata, alllabel, splitpercent)\n",
        "    valpred = classifier(traindata, trainlabel, valdata)\n",
        "    accuracy += Accuracy(vallabel, valpred)\n",
        "  return accuracy/iterations # average of all accuracies"
      ],
      "execution_count": 20,
      "outputs": []
    },
    {
      "cell_type": "code",
      "metadata": {
        "id": "H3qtNar7Bbik",
        "colab": {
          "base_uri": "https://localhost:8080/"
        },
        "outputId": "16bd98a0-1281-4da7-ab8b-c1b95138353d"
      },
      "source": [
        "print('Average validation accuracy is ', AverageAccuracy(alltraindata, alltrainlabel, 75/100, 10, classifier=NN))\n",
        "testpred = NN(alltraindata, alltrainlabel, testdata)\n",
        "print('test accuracy is ',Accuracy(testlabel, testpred) )"
      ],
      "execution_count": 21,
      "outputs": [
        {
          "output_type": "stream",
          "name": "stdout",
          "text": [
            "Average validation accuracy is  0.33584635395170215\n",
            "test accuracy is  0.34917953667953666\n"
          ]
        }
      ]
    },
    {
      "cell_type": "markdown",
      "metadata": {
        "id": "33GIn4x5VH-d"
      },
      "source": [
        "This is a very simple way of doing cross-validation. There are many well-known algorithms for cross-validation, like k-fold cross-validation, leave-one-out etc. This will be covered in detail in a later module. For more information about cross-validation, check <a href=https://en.wikipedia.org/wiki/Cross-validation_(statistics)>Cross-validatioin (Wikipedia)</a>\n",
        "\n",
        "### Questions\n",
        "1. Does averaging the validation accuracy across multiple splits give more consistent results?\n",
        "2. Does it give more accurate estimate of test accuracy?\n",
        "3. What is the effect of the number of iterations on the estimate? Do we get a better estimate with higher iterations?\n",
        "4. Consider the results you got for the previous questions. Can we deal with a very small train dataset or validation dataset by increasing the iterations?\n"
      ]
    },
    {
      "cell_type": "markdown",
      "source": [],
      "metadata": {
        "id": "QPp63k_eji-j"
      }
    },
    {
      "cell_type": "markdown",
      "source": [
        "1 ANS)\n",
        "Yes, averaging validation accuracy across multiple splits can provide more consistent and reliable results when evaluating machine learning models, especially in situations where there is randomness involved, such as with different random initializations of the model or the random shuffling of data during the split. This technique is known as cross-validation.\n",
        "\n",
        "\n",
        "1)Reduces Variance: By splitting your dataset into multiple subsets (folds) and evaluating the model's performance on each fold separately, you obtain a set of accuracy values. Averaging these values reduces the influence of random fluctuations in a single split, providing a more stable estimate of your model's performance.\n",
        "\n",
        "2)Better Generalization: Averaging over multiple splits helps you assess how well your model generalizes to different subsets of your data. If your model performs consistently well across all folds, it's more likely to generalize well to unseen data.\n",
        "\n",
        "3)Mitigates Data Split Bias: In some cases, a single random split of your data might lead to a particularly favorable or unfavorable set of training and validation examples. Averaging over multiple splits helps mitigate the impact of this bias."
      ],
      "metadata": {
        "id": "SkXcnFi1h9s-"
      }
    },
    {
      "cell_type": "markdown",
      "source": [
        "2ans)\n",
        "\n",
        "The accuracy of a test or measurement depends on various factors, including the methodology used, the quality of data, and the specific context in which it is applied. In the context of machine learning and model evaluation, \"test accuracy\" typically refers to how well a machine learning model performs on a test dataset that it hasn't seen during training. The accuracy of this estimate depends on several factors:\n",
        "\n",
        "Size and Representativeness of the Test Dataset: A larger and more representative test dataset generally provides a more accurate estimate of a model's performance. If the test dataset is too small or not representative of the real-world data the model will encounter, the estimate may not be reliable.\n",
        "\n",
        "Quality of Labels: If the labels in the test dataset are noisy or incorrect, it can lead to inaccurate estimates of model performance. Ensuring high-quality labels is crucial.\n",
        "\n",
        "Model Complexity: The complexity of the model being evaluated can also affect the accuracy of the estimate. Overly complex models may overfit the training data and perform poorly on unseen data, leading to an overestimated test accuracy.\n",
        "\n",
        "Data Preprocessing: How the data is preprocessed, including feature engineering and data cleaning, can impact the test accuracy. Inaccurate or inappropriate preprocessing can lead to biased estimates.\n",
        "\n",
        "Cross-Validation: Techniques like k-fold cross-validation can provide a more robust estimate of model performance by partitioning the data into multiple subsets for training and testing. This helps mitigate the impact of data variability.\n",
        "\n",
        "Hyperparameter Tuning: The choice of hyperparameters can significantly affect a model's performance. Proper hyperparameter tuning can improve accuracy.\n",
        "\n",
        "Randomness: Some machine learning algorithms, like random forests or neural networks with random initialization, can produce slightly different results each time they are trained. Running multiple evaluations and averaging the results can provide a more accurate estimate.\n",
        "\n",
        "Domain-Specific Considerations: In some domains, certain types of errors may be more costly or important than others. Accuracy may not be the best metric, and other metrics like precision, recall, F1 score, or area under the ROC curve may provide a more accurate picture of performance.\n",
        "\n",
        "In summary, while machine learning models can provide estimates of test accuracy, the accuracy of these estimates depends on multiple factors. To obtain more accurate estimates, it's essential to carefully design experiments, use appropriate evaluation metrics, and ensure data quality and representativeness.\n",
        "\n",
        "\n",
        "\n",
        "\n",
        "\n",
        "\n"
      ],
      "metadata": {
        "id": "26Mg45c4ij2j"
      }
    },
    {
      "cell_type": "markdown",
      "source": [
        "3ans)\n",
        "\n",
        "The effect of the number of iterations on an estimate depends on the context and the specific estimation or computational algorithm being used. In many cases, increasing the number of iterations can lead to a more accurate estimate, but there are also situations where more iterations do not necessarily result in a better estimate or where there are diminishing returns with additional iterations.\n",
        "\n",
        "Here are a few scenarios to consider:\n",
        "\n",
        "Numerical Integration:\n",
        "\n",
        "In numerical integration methods like the trapezoidal rule or Simpson's rule, increasing the number of iterations (i.e., increasing the number of subintervals) typically leads to a more accurate estimate of the integral of a function.\n",
        "Optimization Algorithms:\n",
        "\n",
        "In optimization algorithms like gradient descent, increasing the number of iterations can help the algorithm converge to a better solution. However, there may be a point of diminishing returns where further iterations do not significantly improve the solution.\n",
        "Monte Carlo Simulation:\n",
        "\n",
        "In Monte Carlo simulations, more iterations (i.e., more random samples) can lead to a more accurate estimate of a probability or expected value. The law of large numbers suggests that as the number of iterations approaches infinity, the estimate becomes more accurate.\n",
        "Machine Learning Training:\n",
        "\n",
        "In machine learning, training algorithms often involve iterative processes such as gradient descent. Increasing the number of iterations during training can improve the model's performance, up to a certain point. After a certain number of iterations, the model may start overfitting the training data and perform worse on new, unseen data.\n",
        "Convergence:\n",
        "\n",
        "Some iterative algorithms have convergence criteria. When a specific convergence criterion is met, the algorithm terminates. Increasing the number of iterations beyond this point may not improve the estimate.\n",
        "In summary, the effect of the number of iterations on an estimate depends on the specific problem, algorithm, and the convergence behavior of that algorithm. While more iterations often lead to better estimates, there can be situations where additional iterations do not provide significant improvements, and it's essential to consider computational resources, convergence criteria, and the problem's nature when determining the appropriate number of iterations.\n",
        "\n",
        "\n",
        "\n",
        "\n",
        "\n"
      ],
      "metadata": {
        "id": "NSV_nDjvi9NH"
      }
    },
    {
      "cell_type": "markdown",
      "source": [
        "4ans)\n",
        "\n",
        "Dealing with a very small training dataset or validation dataset by increasing the number of iterations (epochs) can have both benefits and limitations. Let's examine the implications:\n",
        "\n",
        "Benefits:\n",
        "\n",
        "Overfitting Mitigation: Increasing the number of iterations may help the model converge better on the small training dataset. It can allow the model to see the limited data more times and potentially reduce overfitting.\n",
        "\n",
        "Performance Improvement: In some cases, a model trained on a small dataset may improve its performance as it learns more about the available data through additional iterations.\n",
        "\n",
        "Limitations:\n",
        "\n",
        "Data Limitation: No matter how many iterations you run, the model can only learn from the data it has. If the dataset is too small or not representative of the underlying distribution, the model's performance may still be limited. Increasing iterations won't create information that doesn't exist in the data.\n",
        "\n",
        "Computational Cost: Training deep learning models for a large number of iterations can be computationally expensive, especially for complex models. It may not be a cost-effective solution, and you might reach diminishing returns in terms of performance improvement.\n",
        "\n",
        "Overfitting Risk: While more iterations can help reduce overfitting to some extent, there's a risk of overfitting to the small dataset even more if the model becomes too complex. Regularization techniques like dropout or weight decay might be necessary to counter this risk.\n",
        "\n",
        "Validation Dataset: If you also have a small validation dataset, it may not be representative enough to accurately assess model performance, even with increased iterations. Validation data helps you understand how well the model generalizes to unseen data, and a small validation set can lead to unreliable evaluation.\n",
        "\n",
        "In summary, increasing the number of iterations can be a useful strategy for training models on small datasets, but it's not a magic solution. It should be done carefully while monitoring for overfitting, and it may not fully address the limitations imposed by a small dataset, especially if the data is not representative of the problem domain. It's also important to have a sufficient validation dataset to reliably evaluate model performance.\n",
        "\n",
        "\n",
        "\n",
        "\n",
        "\n"
      ],
      "metadata": {
        "id": "jYpGrk2lhs8v"
      }
    }
  ]
}